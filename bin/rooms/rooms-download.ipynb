{
 "cells": [
  {
   "cell_type": "code",
   "execution_count": 47,
   "metadata": {},
   "outputs": [],
   "source": [
    "import requests\n",
    "from pprint import pprint\n",
    "import json"
   ]
  },
  {
   "cell_type": "code",
   "execution_count": 6,
   "metadata": {},
   "outputs": [],
   "source": [
    "# MAUI room list \n",
    "verboseURL = 'https://api.maui.uiowa.edu/maui/api/pub/registrar/courses/AstraBldgRmCompleteList/list-verbose'"
   ]
  },
  {
   "cell_type": "code",
   "execution_count": 9,
   "metadata": {},
   "outputs": [],
   "source": [
    "# Download all rooms and transform to JSON\n",
    "all_rooms = requests.get(verboseURL).json()"
   ]
  },
  {
   "cell_type": "code",
   "execution_count": 41,
   "metadata": {},
   "outputs": [
    {
     "name": "stdout",
     "output_type": "stream",
     "text": [
      "{'acadOrgUnitName': '704',\n",
      " 'buildingCode': 'CPHB',\n",
      " 'buildingName': 'COLLEGE OF PUBLIC HEALTH BLDG',\n",
      " 'featureList': ['A/C',\n",
      "                 'Computer - Windows',\n",
      "                 'Computer - Windows for Students',\n",
      "                 'Disc Player - DVD',\n",
      "                 'Dual Projection - Single Image',\n",
      "                 'Electronic Access',\n",
      "                 'Internet',\n",
      "                 'Lecture Capture with Mic',\n",
      "                 'Microphone - Fixed on Podium',\n",
      "                 'Podium',\n",
      "                 'Projection Screen - Fixed',\n",
      "                 'Projector - Data/Video',\n",
      "                 'Tables',\n",
      "                 'Technology Control System',\n",
      "                 'Whiteboard - Standard',\n",
      "                 'Wireless - Access'],\n",
      " 'maxOccupancy': '28',\n",
      " 'regionList': ['1) University Classrooms',\n",
      "                '1) University Classrooms - Fixed AV Tech',\n",
      "                '1) University Classrooms - Level 1',\n",
      "                '1) University Classrooms - Space Utilization',\n",
      "                'Classroom-Computer',\n",
      "                'Cls Sched Manages Initial Room Assignment',\n",
      "                'College of Public Health',\n",
      "                'College of Public Health Classrooms',\n",
      "                'Event Management Process - Shared with Cls Sched',\n",
      "                'Event Scheduler CPHB',\n",
      "                'Room Type Group Computer (CP)',\n",
      "                'UCR Electronic Classrooms',\n",
      "                'Whiteboard Only Classrooms'],\n",
      " 'rmType': 'Classroom-Computer',\n",
      " 'roomCategory': 'UNIVERSITY_CLASSROOM',\n",
      " 'roomName': None,\n",
      " 'roomNumber': 'C201',\n",
      " 'roomTypeGroup': 'Computer'}\n"
     ]
    }
   ],
   "source": [
    "# Filter out non COPH rooms\n",
    "cphb_rooms = [rm for rm in all_rooms if rm['buildingCode']  == 'CPHB']\n",
    "pprint(cphb_rooms[1])"
   ]
  },
  {
   "cell_type": "code",
   "execution_count": 42,
   "metadata": {
    "scrolled": false
   },
   "outputs": [
    {
     "name": "stdout",
     "output_type": "stream",
     "text": [
      "['buildingName',\n",
      " 'buildingCode',\n",
      " 'roomNumber',\n",
      " 'roomName',\n",
      " 'regionList',\n",
      " 'featureList',\n",
      " 'maxOccupancy',\n",
      " 'rmType',\n",
      " 'acadOrgUnitName',\n",
      " 'roomCategory',\n",
      " 'roomTypeGroup']\n"
     ]
    }
   ],
   "source": [
    "# Room attributes\n",
    "rm_attrs_list = list(cphb_rooms[0].keys())\n",
    "pprint(rm_attrs_list)"
   ]
  },
  {
   "cell_type": "code",
   "execution_count": 43,
   "metadata": {},
   "outputs": [
    {
     "name": "stdout",
     "output_type": "stream",
     "text": [
      "{'UNIVERSITY_CLASSROOM', 'SPECIALTY_SPACE', None, 'PROGRAMMED_CLASSROOM'}\n"
     ]
    }
   ],
   "source": [
    "# Room categories\n",
    "rm_categories = set([rm['roomCategory'] for rm in cphb_rooms])\n",
    "pprint(rm_categories)"
   ]
  },
  {
   "cell_type": "code",
   "execution_count": 44,
   "metadata": {},
   "outputs": [
    {
     "name": "stdout",
     "output_type": "stream",
     "text": [
      "{None, 'Computer', 'Adaptable', 'Seminar/Discussion', 'Lecture'}\n"
     ]
    }
   ],
   "source": [
    "# Room Type Groups\n",
    "rm_type_groups = set([rm['roomTypeGroup'] for rm in cphb_rooms])\n",
    "pprint(rm_type_groups)"
   ]
  },
  {
   "cell_type": "code",
   "execution_count": 45,
   "metadata": {},
   "outputs": [
    {
     "name": "stdout",
     "output_type": "stream",
     "text": [
      "{'Auditorium',\n",
      " 'Classroom-Computer',\n",
      " 'Classroom-Lecture',\n",
      " 'Classroom-Multipurpose',\n",
      " 'Computer Laboratory',\n",
      " 'Conference Room',\n",
      " 'Lounge',\n",
      " 'Meeting Room',\n",
      " 'Office',\n",
      " 'Outdoor Space',\n",
      " 'Seminar'}\n"
     ]
    }
   ],
   "source": [
    "# Room types\n",
    "rm_types = set([rm['rmType'] for rm in cphb_rooms])\n",
    "pprint(rm_types)"
   ]
  },
  {
   "cell_type": "code",
   "execution_count": 46,
   "metadata": {
    "scrolled": false
   },
   "outputs": [
    {
     "name": "stdout",
     "output_type": "stream",
     "text": [
      "['A/C',\n",
      " 'Computer - Linux',\n",
      " 'Computer - Windows',\n",
      " 'Computer - Windows for Students',\n",
      " 'Disc Player - DVD',\n",
      " 'Document Camera',\n",
      " 'Dual Projection - 2 Images',\n",
      " 'Dual Projection - Single Image',\n",
      " 'Electronic Access',\n",
      " 'Internet',\n",
      " 'Lecture Capture with Mic',\n",
      " 'Library Materials',\n",
      " 'Mic Drawer',\n",
      " 'Microphone - Fixed on Podium',\n",
      " 'Microphone - Wireless',\n",
      " 'Podium',\n",
      " 'Projection Screen - Fixed',\n",
      " 'Projector - Data/Video',\n",
      " 'Seats - Moveable Tablet Arms',\n",
      " 'Seats - Theatre',\n",
      " 'Sound System',\n",
      " 'Tables',\n",
      " 'Technology Control System',\n",
      " 'Video Conferencing',\n",
      " 'Whiteboard - Standard',\n",
      " 'Wireless - Access']\n"
     ]
    }
   ],
   "source": [
    "# Features\n",
    "features = set([ft for rm in cphb_rooms for ft in rm['featureList']])\n",
    "pprint(sorted(features))"
   ]
  },
  {
   "cell_type": "code",
   "execution_count": 52,
   "metadata": {},
   "outputs": [
    {
     "name": "stdout",
     "output_type": "stream",
     "text": [
      "{'414', '467', None, '470', '704'}\n"
     ]
    }
   ],
   "source": [
    "# Academic Organization Unit Name\n",
    "acad_orgs = set([rm['acadOrgUnitName'] for rm in cphb_rooms])\n",
    "pprint(acad_orgs)"
   ]
  },
  {
   "cell_type": "code",
   "execution_count": 49,
   "metadata": {},
   "outputs": [],
   "source": [
    "# Write out to file\n",
    "with open('rooms.json', 'w') as f:\n",
    "    json.dump(cphb_rooms, f)"
   ]
  },
  {
   "cell_type": "code",
   "execution_count": null,
   "metadata": {},
   "outputs": [],
   "source": []
  }
 ],
 "metadata": {
  "kernelspec": {
   "display_name": "Python 3",
   "language": "python",
   "name": "python3"
  },
  "language_info": {
   "codemirror_mode": {
    "name": "ipython",
    "version": 3
   },
   "file_extension": ".py",
   "mimetype": "text/x-python",
   "name": "python",
   "nbconvert_exporter": "python",
   "pygments_lexer": "ipython3",
   "version": "3.6.4"
  }
 },
 "nbformat": 4,
 "nbformat_minor": 2
}
